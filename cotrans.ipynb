{
  "cells": [
    {
      "cell_type": "code",
      "source": [
        "#@title <-- Tap this if you on Mobile { display-mode: \"form\" }\n",
        "%%html\n",
        "<b>Press play on the music player to keep the tab alive, then start KoboldAI below (Uses only 13MB of data)</b><br/>\n",
        "<audio src=\"https://raw.githubusercontent.com/KoboldAI/KoboldAI-Client/main/colab/silence.m4a\" controls>"
      ],
      "metadata": {
        "id": "PfkqYMApGGzl"
      },
      "execution_count": null,
      "outputs": []
    },
    {
      "cell_type": "markdown",
      "metadata": {
        "id": "1i1VjP_EFvQJ"
      },
      "source": [
        "# For users who don't have a GPU!"
      ]
    },
    {
      "cell_type": "code",
      "execution_count": null,
      "metadata": {
        "id": "20dDYJvwFvQO"
      },
      "outputs": [],
      "source": [
        "# Set up the environment.\n",
        "!git clone https://github.com/zyddnys/manga-image-translator\n",
        "%cd manga-image-translator/\n",
        "!python -m pip install -r requirements.txt\n",
        "!python -m pip install git+https://github.com/lucasb-eyer/pydensecrf.git\n",
        "\n",
        "# To expose service outside\n",
        "!apt install nginx\n",
        "!echo \"daemon off; events { worker_connections 1024; } http { server { access_log /dev/stdout combined; autoindex_format json; listen 127.0.0.1:5004; server_name example.com; location /result { autoindex on; alias /content/manga-image-translator/result; } } }\" > nginx.conf\n",
        "!npm i localtunnel -g"
      ]
    },
    {
      "cell_type": "code",
      "execution_count": null,
      "metadata": {
        "id": "2VZVX2x1FvQP"
      },
      "outputs": [],
      "source": [
        "import psutil, subprocess, os\n",
        "\n",
        "# Get a list of all processes that are listening on specified ports\n",
        "ports = [5003, 5004]\n",
        "for proc in psutil.process_iter():\n",
        "    try:\n",
        "        for conn in proc.connections():\n",
        "            if conn.laddr.port in ports:\n",
        "                print(f\"Killing process {proc.pid}...\")\n",
        "                proc.kill()\n",
        "    except (psutil.NoSuchProcess, psutil.AccessDenied, psutil.ZombieProcess):\n",
        "        pass\n",
        "\n",
        "proc = subprocess.Popen(['python', '-m', \"manga_translator\", \"--verbose\", \"--mode\", \"web\", \"--use-cuda\"], stdout=subprocess.PIPE, stderr=subprocess.STDOUT)\n",
        "ngproc = subprocess.Popen(['nginx', '-c', f\"{os.getcwd()}/nginx.conf\"], stdout=subprocess.PIPE, stderr=subprocess.STDOUT)\n",
        "ltproc = subprocess.Popen(['lt', '--port', \"5003\"], stdout=subprocess.PIPE, stderr=subprocess.STDOUT)\n",
        "ltngproc = subprocess.Popen(['lt', '--port', \"5004\"], stdout=subprocess.PIPE, stderr=subprocess.STDOUT)\n",
        "\n",
        "ltline = ltproc.stdout.readline().decode()[:-1].split()[-1]\n",
        "print(\"Api:\", ltline)\n",
        "ltngline = ltngproc.stdout.readline().decode()[:-1].split()[-1]\n",
        "print(\"Directory:\", ltngline + \"/result\")\n",
        "\n",
        "print(\"Runner IP:\", subprocess.run([\"curl\", \"ipv4.icanhazip.com\"], stdout=subprocess.PIPE).stdout.decode())\n",
        "\n",
        "while True:\n",
        "  line = proc.stdout.readline().decode()\n",
        "  if not line:\n",
        "    break\n",
        "  #the real code does filtering here\n",
        "  print(line.rstrip())"
      ]
    }
  ],
  "metadata": {
    "language_info": {
      "name": "python"
    },
    "orig_nbformat": 4,
    "colab": {
      "provenance": [],
      "gpuType": "T4",
      "private_outputs": true
    },
    "accelerator": "GPU",
    "kernelspec": {
      "name": "python3",
      "display_name": "Python 3"
    }
  },
  "nbformat": 4,
  "nbformat_minor": 0
}