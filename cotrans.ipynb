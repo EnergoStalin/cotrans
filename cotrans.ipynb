{
  "cells": [
    {
      "cell_type": "markdown",
      "metadata": {
        "id": "1i1VjP_EFvQJ"
      },
      "source": [
        "# For users who don't have a GPU!"
      ]
    },
    {
      "cell_type": "code",
      "execution_count": null,
      "metadata": {
        "id": "20dDYJvwFvQO"
      },
      "outputs": [],
      "source": [
        "import os\n",
        "\n",
        "# Set up the environment.\n",
        "%cd /content\n",
        "if(not os.path.exists(\"manga-image-translator\")):\n",
        "  !git clone --depth 1 \"https://github.com/zyddnys/manga-image-translator\"\n",
        "  %cd manga-image-translator/\n",
        "  !python -m pip install -r requirements.txt\n",
        "  !python -m pip install --force-reinstall cython==0.29.36\n",
        "  !python -m pip install --no-build-isolation git+https://github.com/lucasb-eyer/pydensecrf.git\n",
        "\n",
        "  # To expose service outside\n",
        "  !npm i localtunnel -g"
      ]
    },
    {
      "cell_type": "code",
      "execution_count": null,
      "metadata": {
        "id": "2VZVX2x1FvQP"
      },
      "outputs": [],
      "source": [
        "%cd /content/manga-image-translator\n",
        "\n",
        "import psutil, subprocess, os\n",
        "\n",
        "# Get a list of all processes that are listening on specified ports\n",
        "ports = [5003, 5004]\n",
        "for proc in psutil.process_iter():\n",
        "    try:\n",
        "        for conn in proc.connections():\n",
        "            if conn.laddr.port in ports:\n",
        "                print(f\"Killing process {proc.pid}...\")\n",
        "                proc.kill()\n",
        "    except (psutil.NoSuchProcess, psutil.AccessDenied, psutil.ZombieProcess):\n",
        "        pass\n",
        "\n",
        "proc = subprocess.Popen(['python', '-m', \"manga_translator\", \"--verbose\", \"--mode\", \"web\", \"--use-cuda\"], stdout=subprocess.PIPE, stderr=subprocess.STDOUT)\n",
        "ltngproc = subprocess.Popen(['lt', '--port', \"5003\"], stdout=subprocess.PIPE, stderr=subprocess.STDOUT)\n",
        "\n",
        "print(\"Runner IP:\", subprocess.run([\"curl\", \"ipv4.icanhazip.com\"], stdout=subprocess.PIPE).stdout.decode())\n",
        "\n",
        "def read(x):\n",
        "  for line in x.stdout:\n",
        "    print(line.decode(\"utf-8\"))\n",
        "\n",
        "from threading import Thread\n",
        "threads = [\n",
        "    Thread(target=read, args=(proc,)),\n",
        "    Thread(target=read, args=(ltngproc,))\n",
        "]\n",
        "for t in threads:\n",
        "  t.daemon = True\n",
        "  t.start()\n",
        "\n",
        "for t in threads:\n",
        "  t.join()"
      ]
    }
  ],
  "metadata": {
    "language_info": {
      "name": "python"
    },
    "orig_nbformat": 4,
    "colab": {
      "provenance": [],
      "gpuType": "T4",
      "private_outputs": true
    },
    "accelerator": "GPU",
    "kernelspec": {
      "name": "python3",
      "display_name": "Python 3"
    }
  },
  "nbformat": 4,
  "nbformat_minor": 0
}